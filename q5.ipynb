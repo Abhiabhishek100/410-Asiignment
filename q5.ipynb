{
 "cells": [
  {
   "cell_type": "code",
   "execution_count": null,
   "id": "eb1d9c37-acc7-4dcb-bcac-cbb6b9ef7934",
   "metadata": {},
   "outputs": [],
   "source": [
    "import numpy as np\n",
    "import scipy.io\n",
    "\n",
    "# GPS PRN Extraction\n",
    "codesFile = scipy.io.loadmat(\"Dataset2.mat\")\n",
    "codes = np.array(codesFile['sim_doppler_l'])\n",
    "\n",
    "# Function to get modified PRN for some sampling frequency & delay\n",
    "def modPRN(PRN, n, tau):\n",
    "    return np.repeat(np.roll(PRN, -tau), n)\n",
    "\n",
    "# Serial search function\n",
    "def serialSearch(I, Q, knownPRNs, Fs, wds):\n",
    "    rcvdSignal = np.array(I + Q * 1j)\n",
    "    n = int(Fs / 1.023e6)\n",
    "    t = np.linspace(0, 1, n * 1023) * 1e-3\n",
    "    totalSatellites = knownPRNs.shape[1]\n",
    "    corr = np.zeros((totalSatellites, len(wds), 1023 * n))\n",
    "    \n",
    "    for x in range(totalSatellites):\n",
    "        for y in range(len(wds)):\n",
    "            for z in range(1023 * n):\n",
    "                generatedSignal = modPRN(knownPRNs[:, x], n, z) * np.exp(-1j * wds[y] * t)\n",
    "                corr[x, y, z] = np.abs(np.sum(generatedSignal * rcvdSignal))\n",
    "    \n",
    "    return corr\n",
    "\n",
    "# Example usage\n",
    "wds = np.linspace(-20000, 20000, 41) * 2 * np.pi\n",
    "t = np.linspace(0, 1, 1023) * 1e-3\n",
    "\n",
    "sirPRNI = modPRN(codes[:, 20], 1, 82) * np.cos(2 * np.pi * 675 * t) + np.random.normal(0, 4, 1023)\n",
    "sirPRNQ = modPRN(codes[:, 20], 1, 82) * np.sin(2 * np.pi * 675 * t) + np.random.normal(0, 4, 1023)\n",
    "\n",
    "corr = serialSearch(sirPRNI, sirPRNQ, codes, 1.023e6, wds)\n",
    "satNum, wdstar, taustar = np.unravel_index(corr.argmax(), corr.shape)\n",
    "\n",
    "print(\"Satellite Number:\", satNum)\n",
    "print(\"Carrier Frequency:\", wds[wdstar] / (2 * np.pi))\n",
    "print(\"Code Phase:\", taustar)\n"
   ]
  }
 ],
 "metadata": {
  "kernelspec": {
   "display_name": "Python 3 (ipykernel)",
   "language": "python",
   "name": "python3"
  },
  "language_info": {
   "codemirror_mode": {
    "name": "ipython",
    "version": 3
   },
   "file_extension": ".py",
   "mimetype": "text/x-python",
   "name": "python",
   "nbconvert_exporter": "python",
   "pygments_lexer": "ipython3",
   "version": "3.12.0"
  }
 },
 "nbformat": 4,
 "nbformat_minor": 5
}
